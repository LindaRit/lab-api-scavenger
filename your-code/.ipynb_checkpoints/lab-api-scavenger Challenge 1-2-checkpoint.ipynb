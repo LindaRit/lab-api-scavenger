{
 "cells": [
  {
   "cell_type": "code",
   "execution_count": 2,
   "metadata": {},
   "outputs": [],
   "source": [
    "import requests\n",
    "import json \n",
    "import pandas as pd"
   ]
  },
  {
   "cell_type": "code",
   "execution_count": 5,
   "metadata": {},
   "outputs": [
    {
     "data": {
      "text/plain": [
       "['Jupyter Notebook',\n",
       " 'Jupyter Notebook',\n",
       " 'Jupyter Notebook',\n",
       " 'Jupyter Notebook',\n",
       " 'Jupyter Notebook',\n",
       " 'Jupyter Notebook',\n",
       " 'Jupyter Notebook',\n",
       " 'Jupyter Notebook',\n",
       " 'Jupyter Notebook',\n",
       " 'Jupyter Notebook',\n",
       " 'Jupyter Notebook']"
      ]
     },
     "execution_count": 5,
     "metadata": {},
     "output_type": "execute_result"
    }
   ],
   "source": [
    "url = \"https://api.github.com/repos/ironhack-datalabs/datalis0819/forks\"\n",
    "\n",
    "\n",
    "# get method from requests\n",
    "response = requests.get(url).json()\n",
    "\n",
    "# check if you have the info\n",
    "response\n",
    "ds = pd.DataFrame(response)\n",
    "ds[\"language\"]\n",
    "\n",
    "language = list(ds[\"language\"])\n",
    "language\n"
   ]
  },
  {
   "cell_type": "code",
   "execution_count": 20,
   "metadata": {},
   "outputs": [
    {
     "data": {
      "text/plain": [
       "(11, 73)"
      ]
     },
     "execution_count": 20,
     "metadata": {},
     "output_type": "execute_result"
    }
   ],
   "source": [
    "ds.shape"
   ]
  },
  {
   "cell_type": "code",
   "execution_count": 14,
   "metadata": {},
   "outputs": [
    {
     "data": {
      "text/plain": [
       "Index(['id', 'node_id', 'name', 'full_name', 'private', 'owner', 'html_url',\n",
       "       'description', 'fork', 'url', 'forks_url', 'keys_url',\n",
       "       'collaborators_url', 'teams_url', 'hooks_url', 'issue_events_url',\n",
       "       'events_url', 'assignees_url', 'branches_url', 'tags_url', 'blobs_url',\n",
       "       'git_tags_url', 'git_refs_url', 'trees_url', 'statuses_url',\n",
       "       'languages_url', 'stargazers_url', 'contributors_url',\n",
       "       'subscribers_url', 'subscription_url', 'commits_url', 'git_commits_url',\n",
       "       'comments_url', 'issue_comment_url', 'contents_url', 'compare_url',\n",
       "       'merges_url', 'archive_url', 'downloads_url', 'issues_url', 'pulls_url',\n",
       "       'milestones_url', 'notifications_url', 'labels_url', 'releases_url',\n",
       "       'deployments_url', 'created_at', 'updated_at', 'pushed_at', 'git_url',\n",
       "       'ssh_url', 'clone_url', 'svn_url', 'homepage', 'size',\n",
       "       'stargazers_count', 'watchers_count', 'language', 'has_issues',\n",
       "       'has_projects', 'has_downloads', 'has_wiki', 'has_pages', 'forks_count',\n",
       "       'mirror_url', 'archived', 'disabled', 'open_issues_count', 'license',\n",
       "       'forks', 'open_issues', 'watchers', 'default_branch'],\n",
       "      dtype='object')"
      ]
     },
     "execution_count": 14,
     "metadata": {},
     "output_type": "execute_result"
    }
   ],
   "source": [
    "ds.columns"
   ]
  },
  {
   "cell_type": "markdown",
   "metadata": {},
   "source": [
    "# Challenge 2"
   ]
  },
  {
   "cell_type": "code",
   "execution_count": 27,
   "metadata": {},
   "outputs": [
    {
     "data": {
      "text/html": [
       "<div>\n",
       "<style scoped>\n",
       "    .dataframe tbody tr th:only-of-type {\n",
       "        vertical-align: middle;\n",
       "    }\n",
       "\n",
       "    .dataframe tbody tr th {\n",
       "        vertical-align: top;\n",
       "    }\n",
       "\n",
       "    .dataframe thead th {\n",
       "        text-align: right;\n",
       "    }\n",
       "</style>\n",
       "<table border=\"1\" class=\"dataframe\">\n",
       "  <thead>\n",
       "    <tr style=\"text-align: right;\">\n",
       "      <th></th>\n",
       "    </tr>\n",
       "  </thead>\n",
       "  <tbody>\n",
       "  </tbody>\n",
       "</table>\n",
       "</div>"
      ],
      "text/plain": [
       "Empty DataFrame\n",
       "Columns: []\n",
       "Index: []"
      ]
     },
     "execution_count": 27,
     "metadata": {},
     "output_type": "execute_result"
    }
   ],
   "source": [
    "# how many commits past week = 19.08.2019\n",
    "len(ds[\"git_commits_url\"])\n",
    "\n",
    "urlcommits = \"https://api.github.com/repos/ironhack-datalabs/datalis0819/commits?since=2019-08-19T00:00:00\"\n",
    "# get method from requests\n",
    "response_commit = requests.get(urlcommits).json()\n",
    "\n",
    "# check if you have the info\n",
    "\n",
    "ds_commit = pd.DataFrame(response_commit)\n",
    "ds_commit"
   ]
  },
  {
   "cell_type": "code",
   "execution_count": 21,
   "metadata": {},
   "outputs": [
    {
     "data": {
      "text/html": [
       "<div>\n",
       "<style scoped>\n",
       "    .dataframe tbody tr th:only-of-type {\n",
       "        vertical-align: middle;\n",
       "    }\n",
       "\n",
       "    .dataframe tbody tr th {\n",
       "        vertical-align: top;\n",
       "    }\n",
       "\n",
       "    .dataframe thead th {\n",
       "        text-align: right;\n",
       "    }\n",
       "</style>\n",
       "<table border=\"1\" class=\"dataframe\">\n",
       "  <thead>\n",
       "    <tr style=\"text-align: right;\">\n",
       "      <th></th>\n",
       "      <th>git_commits_url</th>\n",
       "      <th>created_at</th>\n",
       "    </tr>\n",
       "  </thead>\n",
       "  <tbody>\n",
       "    <tr>\n",
       "      <th>0</th>\n",
       "      <td>https://api.github.com/repos/Inrx/datalis0819/...</td>\n",
       "      <td>2019-08-26T16:10:26Z</td>\n",
       "    </tr>\n",
       "    <tr>\n",
       "      <th>1</th>\n",
       "      <td>https://api.github.com/repos/laurawuerz/datali...</td>\n",
       "      <td>2019-08-13T12:53:18Z</td>\n",
       "    </tr>\n",
       "    <tr>\n",
       "      <th>2</th>\n",
       "      <td>https://api.github.com/repos/filipamiralopes/d...</td>\n",
       "      <td>2019-08-12T17:06:11Z</td>\n",
       "    </tr>\n",
       "    <tr>\n",
       "      <th>3</th>\n",
       "      <td>https://api.github.com/repos/janpotthoff/datal...</td>\n",
       "      <td>2019-08-12T15:49:50Z</td>\n",
       "    </tr>\n",
       "    <tr>\n",
       "      <th>4</th>\n",
       "      <td>https://api.github.com/repos/sofia-sousa/datal...</td>\n",
       "      <td>2019-08-12T15:20:26Z</td>\n",
       "    </tr>\n",
       "    <tr>\n",
       "      <th>5</th>\n",
       "      <td>https://api.github.com/repos/naivm/datalis0819...</td>\n",
       "      <td>2019-08-12T15:20:19Z</td>\n",
       "    </tr>\n",
       "    <tr>\n",
       "      <th>6</th>\n",
       "      <td>https://api.github.com/repos/LindaRit/datalis0...</td>\n",
       "      <td>2019-08-12T15:20:00Z</td>\n",
       "    </tr>\n",
       "    <tr>\n",
       "      <th>7</th>\n",
       "      <td>https://api.github.com/repos/Ana-Andre/datalis...</td>\n",
       "      <td>2019-08-12T15:19:40Z</td>\n",
       "    </tr>\n",
       "    <tr>\n",
       "      <th>8</th>\n",
       "      <td>https://api.github.com/repos/alonasorochynska/...</td>\n",
       "      <td>2019-07-29T15:49:59Z</td>\n",
       "    </tr>\n",
       "    <tr>\n",
       "      <th>9</th>\n",
       "      <td>https://api.github.com/repos/carlarsmendes/dat...</td>\n",
       "      <td>2019-07-24T20:30:00Z</td>\n",
       "    </tr>\n",
       "    <tr>\n",
       "      <th>10</th>\n",
       "      <td>https://api.github.com/repos/carlosmd14/datali...</td>\n",
       "      <td>2019-07-24T15:05:51Z</td>\n",
       "    </tr>\n",
       "  </tbody>\n",
       "</table>\n",
       "</div>"
      ],
      "text/plain": [
       "                                      git_commits_url            created_at\n",
       "0   https://api.github.com/repos/Inrx/datalis0819/...  2019-08-26T16:10:26Z\n",
       "1   https://api.github.com/repos/laurawuerz/datali...  2019-08-13T12:53:18Z\n",
       "2   https://api.github.com/repos/filipamiralopes/d...  2019-08-12T17:06:11Z\n",
       "3   https://api.github.com/repos/janpotthoff/datal...  2019-08-12T15:49:50Z\n",
       "4   https://api.github.com/repos/sofia-sousa/datal...  2019-08-12T15:20:26Z\n",
       "5   https://api.github.com/repos/naivm/datalis0819...  2019-08-12T15:20:19Z\n",
       "6   https://api.github.com/repos/LindaRit/datalis0...  2019-08-12T15:20:00Z\n",
       "7   https://api.github.com/repos/Ana-Andre/datalis...  2019-08-12T15:19:40Z\n",
       "8   https://api.github.com/repos/alonasorochynska/...  2019-07-29T15:49:59Z\n",
       "9   https://api.github.com/repos/carlarsmendes/dat...  2019-07-24T20:30:00Z\n",
       "10  https://api.github.com/repos/carlosmd14/datali...  2019-07-24T15:05:51Z"
      ]
     },
     "execution_count": 21,
     "metadata": {},
     "output_type": "execute_result"
    }
   ],
   "source": [
    "ds[['git_commits_url', 'created_at']]"
   ]
  },
  {
   "cell_type": "code",
   "execution_count": null,
   "metadata": {},
   "outputs": [],
   "source": []
  },
  {
   "cell_type": "code",
   "execution_count": null,
   "metadata": {},
   "outputs": [],
   "source": []
  }
 ],
 "metadata": {
  "kernelspec": {
   "display_name": "Python 3",
   "language": "python",
   "name": "python3"
  },
  "language_info": {
   "codemirror_mode": {
    "name": "ipython",
    "version": 3
   },
   "file_extension": ".py",
   "mimetype": "text/x-python",
   "name": "python",
   "nbconvert_exporter": "python",
   "pygments_lexer": "ipython3",
   "version": "3.7.3"
  }
 },
 "nbformat": 4,
 "nbformat_minor": 2
}
